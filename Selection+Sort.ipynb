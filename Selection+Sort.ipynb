{
 "cells": [
  {
   "cell_type": "code",
   "execution_count": 6,
   "metadata": {},
   "outputs": [
    {
     "name": "stdout",
     "output_type": "stream",
     "text": [
      "[2, 3, 8, 10, 12, 14, 15, 22, 30, 90]\n"
     ]
    }
   ],
   "source": [
    "unsortList = [8, 12, 2, 30, 15, 14, 22, 90, 10, 3]\n",
    "def selection_sort(unsortlist):\n",
    "    for i in range(0, len(unsortList) - 1):\n",
    "        index_min = i\n",
    "        \n",
    "        for j in range(i + 1, len(unsortList)):\n",
    "            if unsortList[index_min] > unsortList[j]:\n",
    "                index_min = j\n",
    "        if index_min != i:\n",
    "            temp = unsortList[i]\n",
    "            unsortList[i] = unsortList[index_min]\n",
    "            unsortList[index_min] = temp\n",
    "selection_sort(unsortList)\n",
    "print(unsortList)"
   ]
  },
  {
   "cell_type": "code",
   "execution_count": null,
   "metadata": {
    "collapsed": true
   },
   "outputs": [],
   "source": []
  }
 ],
 "metadata": {
  "kernelspec": {
   "display_name": "Python 3",
   "language": "python",
   "name": "python3"
  },
  "language_info": {
   "codemirror_mode": {
    "name": "ipython",
    "version": 3
   },
   "file_extension": ".py",
   "mimetype": "text/x-python",
   "name": "python",
   "nbconvert_exporter": "python",
   "pygments_lexer": "ipython3",
   "version": "3.6.3"
  }
 },
 "nbformat": 4,
 "nbformat_minor": 2
}
