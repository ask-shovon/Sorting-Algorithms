{
 "cells": [
  {
   "cell_type": "code",
   "execution_count": 1,
   "metadata": {},
   "outputs": [
    {
     "name": "stdout",
     "output_type": "stream",
     "text": [
      "[2, 4, 7, 10, 13, 14, 15, 22, 55, 68]\n"
     ]
    }
   ],
   "source": [
    "unsortedList = [7, 4, 2, 15, 10, 55, 22, 14, 13, 68]\n",
    "def bubble_sort(unsortedList):\n",
    "    for i in range(0, len(unsortedList)):\n",
    "        for j in range(0, len(unsortedList) - i - 1):\n",
    "            if unsortedList[j] > unsortedList[j + 1]:\n",
    "                temp = unsortedList[j]\n",
    "                unsortedList[j] = unsortedList[j + 1]\n",
    "                unsortedList[j + 1] = temp\n",
    "bubble_sort(unsortedList)\n",
    "print(unsortedList)"
   ]
  },
  {
   "cell_type": "code",
   "execution_count": null,
   "metadata": {
    "collapsed": true
   },
   "outputs": [],
   "source": []
  }
 ],
 "metadata": {
  "kernelspec": {
   "display_name": "Python 3",
   "language": "python",
   "name": "python3"
  },
  "language_info": {
   "codemirror_mode": {
    "name": "ipython",
    "version": 3
   },
   "file_extension": ".py",
   "mimetype": "text/x-python",
   "name": "python",
   "nbconvert_exporter": "python",
   "pygments_lexer": "ipython3",
   "version": "3.6.3"
  }
 },
 "nbformat": 4,
 "nbformat_minor": 2
}
